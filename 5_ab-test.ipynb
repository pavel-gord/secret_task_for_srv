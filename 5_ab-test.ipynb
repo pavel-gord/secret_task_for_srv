{
 "cells": [
  {
   "cell_type": "markdown",
   "id": "9a645bdc",
   "metadata": {},
   "source": [
    "## Загрузка библиотек и вводные"
   ]
  },
  {
   "cell_type": "code",
   "execution_count": 2,
   "id": "2efa07a1",
   "metadata": {},
   "outputs": [],
   "source": [
    "import pandas as pd\n",
    "from scipy.stats import chisquare"
   ]
  },
  {
   "cell_type": "markdown",
   "id": "d0af7a74",
   "metadata": {},
   "source": [
    "**Вводные данные:**\n",
    "Вы провели A/B-тест email-рассылки - разослали промописьмо по списку, составленному случайным образом и сделали рассылку по списку, который составил ваш новый алгоритм. Назовём получателей первой рассылки контрольной группой, а получателей второй — тестовой группой. Конверсия тестовой группы чуть лучше. Можно ли сказать, что алгоритм и дальше будет показывать лучшую конверсию?\n",
    "Просьба обосновать свой ответ статистическими расчетами.\n",
    "\n",
    "![Вводные данные:](https://lh3.googleusercontent.com/E7zD3pmWtp7NlsqrNjdqI8QOwZmc1ugULgZz0jEJvBjFm8RS0UdtaoJdTHFkJRxawmzEgSMug8rq4o5pfoy_RO_uE_r5U_98RqKtUFxsxraUxCF_MUD5cxrvadDvb-v3=w569)"
   ]
  },
  {
   "cell_type": "code",
   "execution_count": 6,
   "id": "92f9861b",
   "metadata": {},
   "outputs": [
    {
     "data": {
      "text/html": [
       "<div>\n",
       "<style scoped>\n",
       "    .dataframe tbody tr th:only-of-type {\n",
       "        vertical-align: middle;\n",
       "    }\n",
       "\n",
       "    .dataframe tbody tr th {\n",
       "        vertical-align: top;\n",
       "    }\n",
       "\n",
       "    .dataframe thead th {\n",
       "        text-align: right;\n",
       "    }\n",
       "</style>\n",
       "<table border=\"1\" class=\"dataframe\">\n",
       "  <thead>\n",
       "    <tr style=\"text-align: right;\">\n",
       "      <th></th>\n",
       "      <th>recipients</th>\n",
       "      <th>customers</th>\n",
       "    </tr>\n",
       "  </thead>\n",
       "  <tbody>\n",
       "    <tr>\n",
       "      <th>Control</th>\n",
       "      <td>6076</td>\n",
       "      <td>621</td>\n",
       "    </tr>\n",
       "    <tr>\n",
       "      <th>Test</th>\n",
       "      <td>6076</td>\n",
       "      <td>745</td>\n",
       "    </tr>\n",
       "  </tbody>\n",
       "</table>\n",
       "</div>"
      ],
      "text/plain": [
       "         recipients  customers\n",
       "Control        6076        621\n",
       "Test           6076        745"
      ]
     },
     "execution_count": 6,
     "metadata": {},
     "output_type": "execute_result"
    }
   ],
   "source": [
    "# Переводм в формат дата фрейма\n",
    "df = pd.DataFrame({'recipients': [6076, 6076],\n",
    "                   'customers': [621, 745]}, index=['Control', 'Test'])\n",
    "df"
   ]
  },
  {
   "cell_type": "code",
   "execution_count": 19,
   "id": "c6fcffc8",
   "metadata": {},
   "outputs": [],
   "source": [
    "# установим уровень значимости\n",
    "p_value = 0.05"
   ]
  },
  {
   "cell_type": "markdown",
   "id": "ec80408a",
   "metadata": {},
   "source": [
    "## Подготовка данных для теста"
   ]
  },
  {
   "cell_type": "markdown",
   "id": "c64c751a",
   "metadata": {},
   "source": [
    "В случае конверсий удобно использовать Хи-квадрат. Для его расчета нужно подготовить кросстейбл:"
   ]
  },
  {
   "cell_type": "code",
   "execution_count": 20,
   "id": "758c7851",
   "metadata": {},
   "outputs": [
    {
     "data": {
      "text/html": [
       "<div>\n",
       "<style scoped>\n",
       "    .dataframe tbody tr th:only-of-type {\n",
       "        vertical-align: middle;\n",
       "    }\n",
       "\n",
       "    .dataframe tbody tr th {\n",
       "        vertical-align: top;\n",
       "    }\n",
       "\n",
       "    .dataframe thead th {\n",
       "        text-align: right;\n",
       "    }\n",
       "</style>\n",
       "<table border=\"1\" class=\"dataframe\">\n",
       "  <thead>\n",
       "    <tr style=\"text-align: right;\">\n",
       "      <th></th>\n",
       "      <th>converted</th>\n",
       "      <th>not_converted</th>\n",
       "    </tr>\n",
       "  </thead>\n",
       "  <tbody>\n",
       "    <tr>\n",
       "      <th>Control</th>\n",
       "      <td>621</td>\n",
       "      <td>5455</td>\n",
       "    </tr>\n",
       "    <tr>\n",
       "      <th>Test</th>\n",
       "      <td>745</td>\n",
       "      <td>5331</td>\n",
       "    </tr>\n",
       "  </tbody>\n",
       "</table>\n",
       "</div>"
      ],
      "text/plain": [
       "         converted  not_converted\n",
       "Control        621           5455\n",
       "Test           745           5331"
      ]
     },
     "execution_count": 20,
     "metadata": {},
     "output_type": "execute_result"
    }
   ],
   "source": [
    "converted = df.customers.rename('converted')\n",
    "not_converted = (df.recipients - df.customers).rename('not_converted')\n",
    "conversion_df = pd.concat([converted, not_converted], axis=1)\n",
    "\n",
    "conversion_df"
   ]
  },
  {
   "cell_type": "markdown",
   "id": "8cb21dab",
   "metadata": {},
   "source": [
    "## Тест"
   ]
  },
  {
   "cell_type": "code",
   "execution_count": 22,
   "id": "3bfb1d4c",
   "metadata": {},
   "outputs": [
    {
     "name": "stdout",
     "output_type": "stream",
     "text": [
      "P value равно: 0.0007935653851344087\n",
      "Различия статистически значимы: True\n"
     ]
    }
   ],
   "source": [
    "test = chisquare(conversion_df)\n",
    "chi_statistic = test[1][1]\n",
    "\n",
    "print(f\"P value равно: {p_value_test}\")\n",
    "print(f\"Различия статистически значимы: {p_value > p_value_test}\")"
   ]
  },
  {
   "cell_type": "markdown",
   "id": "f8298f6b",
   "metadata": {},
   "source": [
    "### Вывод:\n",
    "P-value в 0.0008 говорит о том, что такие или еще более выраженные различия случайно получить практически невозможно, поэтому можно с большой уверенностью скзаать, что новый алгоритм работает лучше старого."
   ]
  }
 ],
 "metadata": {
  "kernelspec": {
   "display_name": "Python 3 (ipykernel)",
   "language": "python",
   "name": "python3"
  },
  "language_info": {
   "codemirror_mode": {
    "name": "ipython",
    "version": 3
   },
   "file_extension": ".py",
   "mimetype": "text/x-python",
   "name": "python",
   "nbconvert_exporter": "python",
   "pygments_lexer": "ipython3",
   "version": "3.9.13"
  }
 },
 "nbformat": 4,
 "nbformat_minor": 5
}
